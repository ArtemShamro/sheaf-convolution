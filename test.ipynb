{
 "cells": [
  {
   "cell_type": "code",
   "execution_count": 1,
   "id": "29d3c3eb",
   "metadata": {},
   "outputs": [],
   "source": [
    "from dataloader.dataloader_hetero import HeteroGraphDataset"
   ]
  },
  {
   "cell_type": "code",
   "execution_count": 2,
   "id": "8210b5ab",
   "metadata": {},
   "outputs": [
    {
     "name": "stderr",
     "output_type": "stream",
     "text": [
      "/media/atem/Data/HSE_videos/Project/sheaf-convolution/.venv/lib/python3.10/site-packages/torch_geometric/deprecation.py:26: UserWarning: 'train_test_split_edges' is deprecated, use 'transforms.RandomLinkSplit' instead\n",
      "  warnings.warn(out)\n"
     ]
    }
   ],
   "source": [
    "dataset = HeteroGraphDataset('roman-empire')\n",
    "data, input_dim = dataset.get_data()"
   ]
  },
  {
   "cell_type": "code",
   "execution_count": 3,
   "id": "c17da986",
   "metadata": {},
   "outputs": [],
   "source": [
    "row, col = data.train_pos_edge_index"
   ]
  },
  {
   "cell_type": "code",
   "execution_count": 4,
   "id": "4f13d2c9",
   "metadata": {},
   "outputs": [
    {
     "name": "stdout",
     "output_type": "stream",
     "text": [
      "23050\n"
     ]
    }
   ],
   "source": [
    "pairs1 = set(zip(row.tolist(), col.tolist()))\n",
    "pairs2 = set(zip(col.tolist(), row.tolist()))\n",
    "print(len(pairs1 & pairs2))"
   ]
  },
  {
   "cell_type": "code",
   "execution_count": 5,
   "id": "5b9de75e",
   "metadata": {},
   "outputs": [],
   "source": [
    "from model.model import Diffusion"
   ]
  },
  {
   "cell_type": "code",
   "execution_count": 6,
   "id": "e3f0669c",
   "metadata": {},
   "outputs": [
    {
     "name": "stdout",
     "output_type": "stream",
     "text": [
      "tensor([[ 0,  0,  2,  7, 11],\n",
      "        [ 1,  2,  3,  8, 12]], device='cuda:0') tensor([[ 1,  2,  3,  8, 12],\n",
      "        [ 0,  0,  2,  7, 11]], device='cuda:0')\n"
     ]
    }
   ],
   "source": [
    "oriented = Diffusion._make_oriented_pairs(data.train_pos_edge_index, data.num_nodes)\n",
    "half = oriented.size(1)//2\n",
    "print(oriented[:, :5], oriented[:, half:half+5])"
   ]
  },
  {
   "cell_type": "code",
   "execution_count": null,
   "id": "3bf3e5a4",
   "metadata": {},
   "outputs": [],
   "source": []
  }
 ],
 "metadata": {
  "kernelspec": {
   "display_name": "sheaf-disffusion",
   "language": "python",
   "name": "python3"
  },
  "language_info": {
   "codemirror_mode": {
    "name": "ipython",
    "version": 3
   },
   "file_extension": ".py",
   "mimetype": "text/x-python",
   "name": "python",
   "nbconvert_exporter": "python",
   "pygments_lexer": "ipython3",
   "version": "3.10.12"
  }
 },
 "nbformat": 4,
 "nbformat_minor": 5
}
