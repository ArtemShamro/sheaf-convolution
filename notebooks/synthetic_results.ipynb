{
 "cells": [
  {
   "cell_type": "code",
   "execution_count": 1,
   "id": "fa55f41e",
   "metadata": {},
   "outputs": [
    {
     "name": "stdout",
     "output_type": "stream",
     "text": [
      "/media/atem/Data/HSE_videos/Project/sheaf-convolution\n"
     ]
    },
    {
     "name": "stderr",
     "output_type": "stream",
     "text": [
      "/media/atem/Data/HSE_videos/Project/sheaf-convolution/.venv/lib/python3.10/site-packages/IPython/core/magics/osm.py:417: UserWarning: This is now an optional IPython functionality, setting dhist requires you to install the `pickleshare` library.\n",
      "  self.shell.db['dhist'] = compress_dhist(dhist)[-100:]\n"
     ]
    }
   ],
   "source": [
    "%cd .."
   ]
  },
  {
   "cell_type": "code",
   "execution_count": 2,
   "id": "c01cda28",
   "metadata": {},
   "outputs": [],
   "source": [
    "%load_ext autoreload\n",
    "%autoreload 2\n",
    "\n",
    "import pandas as pd\n",
    "from utils_comet import export_synth_exp_group_table\n",
    "\n",
    "PROJECT_NAME = \"sheaf-diffusion\"\n",
    "WORKSPACE_NAME = \"artem-d\""
   ]
  },
  {
   "cell_type": "code",
   "execution_count": 3,
   "id": "46e43d2f",
   "metadata": {},
   "outputs": [],
   "source": [
    "df_synth = export_synth_exp_group_table(WORKSPACE_NAME, PROJECT_NAME, \"size_effect\")"
   ]
  },
  {
   "cell_type": "code",
   "execution_count": 4,
   "id": "801434a3",
   "metadata": {},
   "outputs": [
    {
     "name": "stdout",
     "output_type": "stream",
     "text": [
      "<class 'pandas.core.frame.DataFrame'>\n",
      "RangeIndex: 6 entries, 0 to 5\n",
      "Data columns (total 12 columns):\n",
      " #   Column                Non-Null Count  Dtype  \n",
      "---  ------                --------------  -----  \n",
      " 0   model_name            6 non-null      object \n",
      " 1   model/total_params    6 non-null      int64  \n",
      " 2   best_epoch            6 non-null      int64  \n",
      " 3   best_val_ap           6 non-null      float64\n",
      " 4   best_val_auc          6 non-null      float64\n",
      " 5   test_ap_at_best_val   6 non-null      float64\n",
      " 6   test_auc_at_best_val  6 non-null      float64\n",
      " 7   dataset/name          6 non-null      object \n",
      " 8   dataset/num_nodes     6 non-null      int64  \n",
      " 9   dataset/num_edges     6 non-null      int64  \n",
      " 10  dataset/num_features  6 non-null      int64  \n",
      " 11  dataset/nproj         6 non-null      int64  \n",
      "dtypes: float64(4), int64(6), object(2)\n",
      "memory usage: 704.0+ bytes\n"
     ]
    }
   ],
   "source": [
    "df_synth.info()"
   ]
  },
  {
   "cell_type": "code",
   "execution_count": 5,
   "id": "68698995",
   "metadata": {},
   "outputs": [
    {
     "data": {
      "text/html": [
       "<div>\n",
       "<style scoped>\n",
       "    .dataframe tbody tr th:only-of-type {\n",
       "        vertical-align: middle;\n",
       "    }\n",
       "\n",
       "    .dataframe tbody tr th {\n",
       "        vertical-align: top;\n",
       "    }\n",
       "\n",
       "    .dataframe thead th {\n",
       "        text-align: right;\n",
       "    }\n",
       "</style>\n",
       "<table border=\"1\" class=\"dataframe\">\n",
       "  <thead>\n",
       "    <tr style=\"text-align: right;\">\n",
       "      <th></th>\n",
       "      <th>model_name</th>\n",
       "      <th>model/total_params</th>\n",
       "      <th>best_epoch</th>\n",
       "      <th>best_val_ap</th>\n",
       "      <th>best_val_auc</th>\n",
       "      <th>test_ap_at_best_val</th>\n",
       "      <th>test_auc_at_best_val</th>\n",
       "      <th>dataset/name</th>\n",
       "      <th>dataset/num_nodes</th>\n",
       "      <th>dataset/num_edges</th>\n",
       "      <th>dataset/num_features</th>\n",
       "      <th>dataset/nproj</th>\n",
       "    </tr>\n",
       "  </thead>\n",
       "  <tbody>\n",
       "    <tr>\n",
       "      <th>0</th>\n",
       "      <td>GAE</td>\n",
       "      <td>17728</td>\n",
       "      <td>21</td>\n",
       "      <td>0.606074</td>\n",
       "      <td>0.623096</td>\n",
       "      <td>0.612413</td>\n",
       "      <td>0.647514</td>\n",
       "      <td>SyntheticDataset</td>\n",
       "      <td>200</td>\n",
       "      <td>276</td>\n",
       "      <td>16</td>\n",
       "      <td>4</td>\n",
       "    </tr>\n",
       "    <tr>\n",
       "      <th>1</th>\n",
       "      <td>GAE</td>\n",
       "      <td>17728</td>\n",
       "      <td>91</td>\n",
       "      <td>0.630611</td>\n",
       "      <td>0.657715</td>\n",
       "      <td>0.605911</td>\n",
       "      <td>0.631684</td>\n",
       "      <td>SyntheticDataset</td>\n",
       "      <td>1000</td>\n",
       "      <td>6916</td>\n",
       "      <td>16</td>\n",
       "      <td>4</td>\n",
       "    </tr>\n",
       "    <tr>\n",
       "      <th>2</th>\n",
       "      <td>GAE</td>\n",
       "      <td>17728</td>\n",
       "      <td>29</td>\n",
       "      <td>0.607469</td>\n",
       "      <td>0.611764</td>\n",
       "      <td>0.610953</td>\n",
       "      <td>0.612681</td>\n",
       "      <td>SyntheticDataset</td>\n",
       "      <td>2000</td>\n",
       "      <td>27726</td>\n",
       "      <td>16</td>\n",
       "      <td>4</td>\n",
       "    </tr>\n",
       "    <tr>\n",
       "      <th>3</th>\n",
       "      <td>Diffusion</td>\n",
       "      <td>17354</td>\n",
       "      <td>115</td>\n",
       "      <td>0.655341</td>\n",
       "      <td>0.685295</td>\n",
       "      <td>0.637193</td>\n",
       "      <td>0.678035</td>\n",
       "      <td>SyntheticDataset</td>\n",
       "      <td>200</td>\n",
       "      <td>276</td>\n",
       "      <td>16</td>\n",
       "      <td>4</td>\n",
       "    </tr>\n",
       "    <tr>\n",
       "      <th>4</th>\n",
       "      <td>Diffusion</td>\n",
       "      <td>17354</td>\n",
       "      <td>253</td>\n",
       "      <td>0.675042</td>\n",
       "      <td>0.704642</td>\n",
       "      <td>0.676803</td>\n",
       "      <td>0.703091</td>\n",
       "      <td>SyntheticDataset</td>\n",
       "      <td>1000</td>\n",
       "      <td>6916</td>\n",
       "      <td>16</td>\n",
       "      <td>4</td>\n",
       "    </tr>\n",
       "    <tr>\n",
       "      <th>5</th>\n",
       "      <td>Diffusion</td>\n",
       "      <td>17354</td>\n",
       "      <td>283</td>\n",
       "      <td>0.679404</td>\n",
       "      <td>0.704444</td>\n",
       "      <td>0.683506</td>\n",
       "      <td>0.708756</td>\n",
       "      <td>SyntheticDataset</td>\n",
       "      <td>2000</td>\n",
       "      <td>27726</td>\n",
       "      <td>16</td>\n",
       "      <td>4</td>\n",
       "    </tr>\n",
       "  </tbody>\n",
       "</table>\n",
       "</div>"
      ],
      "text/plain": [
       "  model_name  model/total_params  best_epoch  best_val_ap  best_val_auc  \\\n",
       "0        GAE               17728          21     0.606074      0.623096   \n",
       "1        GAE               17728          91     0.630611      0.657715   \n",
       "2        GAE               17728          29     0.607469      0.611764   \n",
       "3  Diffusion               17354         115     0.655341      0.685295   \n",
       "4  Diffusion               17354         253     0.675042      0.704642   \n",
       "5  Diffusion               17354         283     0.679404      0.704444   \n",
       "\n",
       "   test_ap_at_best_val  test_auc_at_best_val      dataset/name  \\\n",
       "0             0.612413              0.647514  SyntheticDataset   \n",
       "1             0.605911              0.631684  SyntheticDataset   \n",
       "2             0.610953              0.612681  SyntheticDataset   \n",
       "3             0.637193              0.678035  SyntheticDataset   \n",
       "4             0.676803              0.703091  SyntheticDataset   \n",
       "5             0.683506              0.708756  SyntheticDataset   \n",
       "\n",
       "   dataset/num_nodes  dataset/num_edges  dataset/num_features  dataset/nproj  \n",
       "0                200                276                    16              4  \n",
       "1               1000               6916                    16              4  \n",
       "2               2000              27726                    16              4  \n",
       "3                200                276                    16              4  \n",
       "4               1000               6916                    16              4  \n",
       "5               2000              27726                    16              4  "
      ]
     },
     "execution_count": 5,
     "metadata": {},
     "output_type": "execute_result"
    }
   ],
   "source": [
    "df_synth"
   ]
  },
  {
   "cell_type": "code",
   "execution_count": null,
   "id": "1411ce04",
   "metadata": {},
   "outputs": [],
   "source": []
  }
 ],
 "metadata": {
  "kernelspec": {
   "display_name": "sheaf-disffusion",
   "language": "python",
   "name": "python3"
  },
  "language_info": {
   "codemirror_mode": {
    "name": "ipython",
    "version": 3
   },
   "file_extension": ".py",
   "mimetype": "text/x-python",
   "name": "python",
   "nbconvert_exporter": "python",
   "pygments_lexer": "ipython3",
   "version": "3.10.12"
  }
 },
 "nbformat": 4,
 "nbformat_minor": 5
}
